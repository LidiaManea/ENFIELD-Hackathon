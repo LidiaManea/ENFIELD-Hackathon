{
 "cells": [
  {
   "cell_type": "code",
   "execution_count": 32,
   "id": "df4514e8",
   "metadata": {},
   "outputs": [],
   "source": [
    "import pandas as pd\n",
    "import numpy as np\n",
    "import torch\n",
    "import torch.nn as nn\n",
    "from sklearn.preprocessing import StandardScaler\n",
    "from torch.utils.data import DataLoader, Dataset\n",
    "from sklearn.metrics import mean_absolute_percentage_error\n",
    "import matplotlib.pyplot as plt\n",
    "from tqdm import tqdm"
   ]
  },
  {
   "cell_type": "code",
   "execution_count": 102,
   "id": "afa40351",
   "metadata": {},
   "outputs": [
    {
     "name": "stdout",
     "output_type": "stream",
     "text": [
      "Index(['ICT', 'U06, U06A, U05B', 'OBS', 'U05, U04, U04B, GEO', 'TEG', 'LIB',\n",
      "       'MEK', 'SOC', 'S01', 'D04', 'Total_kWh', 'Temperature (°C)',\n",
      "       'Pressure (mmHg)', 'Wind speed (m/s)'],\n",
      "      dtype='object')\n"
     ]
    },
    {
     "name": "stderr",
     "output_type": "stream",
     "text": [
      "C:\\Users\\tavim\\AppData\\Local\\Temp\\ipykernel_17076\\1434856704.py:10: FutureWarning: Series.__getitem__ treating keys as positions is deprecated. In a future version, integer keys will always be treated as labels (consistent with DataFrame behavior). To access a value by position, use `ser.iloc[pos]`\n",
      "  electricity_df_clean.rename(columns={new_header[0]: \"Timestamp\"}, inplace=True)\n"
     ]
    }
   ],
   "source": [
    "# Load the Excel file\n",
    "xls = pd.ExcelFile(\"Buildings_el.xlsx\")\n",
    "electricity_df = xls.parse('Electricity kWh')\n",
    "weather_df = xls.parse('Weather archive')\n",
    "\n",
    "# Clean electricity data\n",
    "new_header = electricity_df.iloc[0]\n",
    "electricity_df_clean = electricity_df[1:].copy()\n",
    "electricity_df_clean.columns = new_header\n",
    "electricity_df_clean.rename(columns={new_header[0]: \"Timestamp\"}, inplace=True)\n",
    "electricity_df_clean[\"Timestamp\"] = pd.to_datetime(electricity_df_clean[\"Timestamp\"])\n",
    "electricity_df_clean.set_index(\"Timestamp\", inplace=True)\n",
    "electricity_df_clean = electricity_df_clean.apply(pd.to_numeric, errors='coerce')\n",
    "electricity_df_clean = electricity_df_clean.groupby(electricity_df_clean.index).mean()\n",
    "electricity_df_clean[\"Total_kWh\"] = electricity_df_clean.sum(axis=1)\n",
    "\n",
    "# Clean weather data\n",
    "weather_df.columns = weather_df.iloc[1]\n",
    "weather_df_clean = weather_df[2:].copy()\n",
    "weather_df_clean.rename(columns={\"Local time in Tallinn \": \"Timestamp\"}, inplace=True)\n",
    "weather_df_clean[\"Timestamp\"] = pd.to_datetime(weather_df_clean[\"Timestamp\"], dayfirst=True, errors='coerce')\n",
    "\n",
    "# Rename relevant columns for clarity\n",
    "weather_df_clean.rename(columns={\n",
    "    \"T\": \"Temperature (°C)\",\n",
    "    \"P0\": \"Pressure (mmHg)\",\n",
    "    \"U\": \"Humidity (%)\",\n",
    "    \"Ff\": \"Wind speed (m/s)\"\n",
    "}, inplace=True)\n",
    "\n",
    "# Define numeric columns\n",
    "numeric_cols = [\"Temperature (°C)\", \"Pressure (mmHg)\", \"Wind speed (m/s)\"]\n",
    "\n",
    "# Coerce non-numeric values to NaN\n",
    "for col in numeric_cols:\n",
    "    weather_df_clean[col] = pd.to_numeric(weather_df_clean[col], errors='coerce')\n",
    "\n",
    "# Drop rows with invalid timestamps or all NaN numeric values\n",
    "weather_df_clean.dropna(subset=[\"Timestamp\"] + numeric_cols, how=\"all\", inplace=True)\n",
    "\n",
    "# Ensure only numeric columns are included for resampling\n",
    "weather_df_clean = weather_df_clean[[\"Timestamp\"] + numeric_cols]\n",
    "\n",
    "# Set the timestamp as the index and resample to hourly frequency\n",
    "weather_df_clean = weather_df_clean.set_index(\"Timestamp\").resample(\"h\").mean()\n",
    "# Merge datasets\n",
    "combined_df = electricity_df_clean.merge(weather_df_clean, left_index=True, right_index=True, how='inner')\n",
    "print(combined_df.columns)\n",
    "# Filter data for a specific building\n",
    "building_id = \"OBS\"  # Replace with the desired building's identifier\n",
    "building_data = combined_df[[building_id, \"Total_kWh\", \"Temperature (°C)\", \"Pressure (mmHg)\", \"Wind speed (m/s)\"]] # Adjust column name if needed\n",
    "\n",
    "# Use the filtered data for further processing\n",
    "data_2023 = building_data.loc['2023']  # Filter data for the year 2023\n",
    "data_2023 = combined_df.loc['2023']"
   ]
  },
  {
   "cell_type": "code",
   "execution_count": 103,
   "id": "c422be9a",
   "metadata": {},
   "outputs": [],
   "source": [
    "# Prepare train and test data\n",
    "train_data = pd.DataFrame()\n",
    "test_data = pd.DataFrame()\n",
    "for month in range(1, 13):\n",
    "    month_data = data_2023[data_2023.index.month == month]\n",
    "    if len(month_data) < 4 * 7 * 24:\n",
    "        continue\n",
    "    start_idx = np.random.randint(0, len(month_data) - 2 * 7 * 24)\n",
    "    train_weeks = month_data.iloc[start_idx:start_idx + 2 * 7 * 24]\n",
    "    test_weeks = month_data.drop(train_weeks.index)\n",
    "    train_data = pd.concat([train_data, train_weeks])\n",
    "    test_data = pd.concat([test_data, test_weeks])\n",
    "train_data.sort_index(inplace=True)\n",
    "test_data.sort_index(inplace=True)\n",
    "\n",
    "# Normalize data\n",
    "scaler = StandardScaler()\n",
    "train_data[\"Total_kWh\"] = scaler.fit_transform(train_data[[\"Total_kWh\"]])\n",
    "test_data[\"Total_kWh\"] = scaler.transform(test_data[[\"Total_kWh\"]])\n",
    "\n",
    "# Create sequences\n",
    "def create_sequences(data, seq_len, pred_len):\n",
    "    X, y = [], []\n",
    "    for i in range(len(data) - seq_len - pred_len):\n",
    "        X.append(data[i:i+seq_len].values)\n",
    "        y.append(data[i+seq_len:i+seq_len+pred_len].values)\n",
    "    return np.array(X), np.array(y)\n",
    "\n",
    "seq_len = 168\n",
    "pred_len = 24\n",
    "X_train, y_train = create_sequences(train_data[\"Total_kWh\"], seq_len, pred_len)\n",
    "X_test, y_test = create_sequences(test_data[\"Total_kWh\"], seq_len, pred_len)\n",
    "\n",
    "X_train = torch.tensor(X_train, dtype=torch.float32)\n",
    "y_train = torch.tensor(y_train, dtype=torch.float32)\n",
    "X_test = torch.tensor(X_test, dtype=torch.float32)\n",
    "y_test = torch.tensor(y_test, dtype=torch.float32)"
   ]
  },
  {
   "cell_type": "code",
   "execution_count": 49,
   "id": "83ccf43d",
   "metadata": {},
   "outputs": [],
   "source": [
    "# Import TimesNet\n",
    "import sys\n",
    "sys.path.append(r\"E:/Facultate/fewshot-ts-embedding/fewshot-ts-embedding\")\n",
    "from libs.timeserieslibrary.models.TimesNet import Model\n",
    "\n",
    "# Define the TimesNet model\n",
    "class Configs:\n",
    "    task_name = 'long_term_forecast'  # Task type (e.g., 'long_term_forecast', 'short_term_forecast')\n",
    "    seq_len = 168  # Input sequence length (e.g., 7 days of hourly data)\n",
    "    label_len = 24  # Label length (context length for decoder, if applicable)\n",
    "    pred_len = 24  # Prediction length (e.g., 1 day of hourly data)\n",
    "    enc_in = 1  # Number of input features (e.g., electricity consumption)\n",
    "    dec_in = 1  # Number of decoder input features\n",
    "    c_out = 1  # Number of output features (e.g., electricity consumption)\n",
    "    d_model = 64  # Model dimension\n",
    "    e_layers = 2  # Number of encoder layers\n",
    "    d_ff = 256  # Feedforward network dimension\n",
    "    dropout = 0.1  # Dropout rate\n",
    "    embed = \"timeF\"  # Embedding type (e.g., time features)\n",
    "    freq = \"h\"  # Frequency of the data (e.g., hourly)\n",
    "    top_k = 5  # Number of top periods for FFT\n",
    "    num_kernels = 6  # Number of kernels for Inception blocks\n",
    "\n",
    "configs = Configs()\n",
    "model = Model(configs)\n",
    "model = model.to(device)"
   ]
  },
  {
   "cell_type": "code",
   "execution_count": 104,
   "id": "5e8c48e3",
   "metadata": {},
   "outputs": [
    {
     "name": "stderr",
     "output_type": "stream",
     "text": [
      "Epoch 1/20: 100%|██████████| 120/120 [01:29<00:00,  1.34batch/s, loss=0.0784]\n"
     ]
    },
    {
     "name": "stdout",
     "output_type": "stream",
     "text": [
      "Epoch 1/20, Loss: 0.0593\n"
     ]
    },
    {
     "name": "stderr",
     "output_type": "stream",
     "text": [
      "Epoch 2/20: 100%|██████████| 120/120 [01:29<00:00,  1.34batch/s, loss=0.0247]\n"
     ]
    },
    {
     "name": "stdout",
     "output_type": "stream",
     "text": [
      "Epoch 2/20, Loss: 0.0504\n"
     ]
    },
    {
     "name": "stderr",
     "output_type": "stream",
     "text": [
      "Epoch 3/20: 100%|██████████| 120/120 [01:29<00:00,  1.33batch/s, loss=0.0709]\n"
     ]
    },
    {
     "name": "stdout",
     "output_type": "stream",
     "text": [
      "Epoch 3/20, Loss: 0.0744\n"
     ]
    },
    {
     "name": "stderr",
     "output_type": "stream",
     "text": [
      "Epoch 4/20: 100%|██████████| 120/120 [01:30<00:00,  1.33batch/s, loss=0.027] \n"
     ]
    },
    {
     "name": "stdout",
     "output_type": "stream",
     "text": [
      "Epoch 4/20, Loss: 0.0707\n"
     ]
    },
    {
     "name": "stderr",
     "output_type": "stream",
     "text": [
      "Epoch 5/20: 100%|██████████| 120/120 [01:30<00:00,  1.32batch/s, loss=0.0763]\n"
     ]
    },
    {
     "name": "stdout",
     "output_type": "stream",
     "text": [
      "Epoch 5/20, Loss: 0.0548\n"
     ]
    },
    {
     "name": "stderr",
     "output_type": "stream",
     "text": [
      "Epoch 6/20: 100%|██████████| 120/120 [01:31<00:00,  1.32batch/s, loss=0.0662]\n"
     ]
    },
    {
     "name": "stdout",
     "output_type": "stream",
     "text": [
      "Epoch 6/20, Loss: 0.0667\n"
     ]
    },
    {
     "name": "stderr",
     "output_type": "stream",
     "text": [
      "Epoch 7/20: 100%|██████████| 120/120 [01:31<00:00,  1.32batch/s, loss=0.126] \n"
     ]
    },
    {
     "name": "stdout",
     "output_type": "stream",
     "text": [
      "Epoch 7/20, Loss: 0.0473\n"
     ]
    },
    {
     "name": "stderr",
     "output_type": "stream",
     "text": [
      "Epoch 8/20: 100%|██████████| 120/120 [01:31<00:00,  1.32batch/s, loss=0.0675]\n"
     ]
    },
    {
     "name": "stdout",
     "output_type": "stream",
     "text": [
      "Epoch 8/20, Loss: 0.0483\n"
     ]
    },
    {
     "name": "stderr",
     "output_type": "stream",
     "text": [
      "Epoch 9/20: 100%|██████████| 120/120 [01:31<00:00,  1.32batch/s, loss=0.0157]\n"
     ]
    },
    {
     "name": "stdout",
     "output_type": "stream",
     "text": [
      "Epoch 9/20, Loss: 0.0359\n"
     ]
    },
    {
     "name": "stderr",
     "output_type": "stream",
     "text": [
      "Epoch 10/20: 100%|██████████| 120/120 [01:31<00:00,  1.31batch/s, loss=0.0573]\n"
     ]
    },
    {
     "name": "stdout",
     "output_type": "stream",
     "text": [
      "Epoch 10/20, Loss: 0.0615\n"
     ]
    },
    {
     "name": "stderr",
     "output_type": "stream",
     "text": [
      "Epoch 11/20: 100%|██████████| 120/120 [01:31<00:00,  1.31batch/s, loss=0.124] \n"
     ]
    },
    {
     "name": "stdout",
     "output_type": "stream",
     "text": [
      "Epoch 11/20, Loss: 0.0513\n"
     ]
    },
    {
     "name": "stderr",
     "output_type": "stream",
     "text": [
      "Epoch 12/20: 100%|██████████| 120/120 [01:31<00:00,  1.31batch/s, loss=0.0259]\n"
     ]
    },
    {
     "name": "stdout",
     "output_type": "stream",
     "text": [
      "Epoch 12/20, Loss: 0.0443\n"
     ]
    },
    {
     "name": "stderr",
     "output_type": "stream",
     "text": [
      "Epoch 13/20: 100%|██████████| 120/120 [01:31<00:00,  1.31batch/s, loss=0.0231]\n"
     ]
    },
    {
     "name": "stdout",
     "output_type": "stream",
     "text": [
      "Epoch 13/20, Loss: 0.0390\n"
     ]
    },
    {
     "name": "stderr",
     "output_type": "stream",
     "text": [
      "Epoch 14/20: 100%|██████████| 120/120 [01:31<00:00,  1.31batch/s, loss=0.0421]\n"
     ]
    },
    {
     "name": "stdout",
     "output_type": "stream",
     "text": [
      "Epoch 14/20, Loss: 0.0402\n"
     ]
    },
    {
     "name": "stderr",
     "output_type": "stream",
     "text": [
      "Epoch 15/20: 100%|██████████| 120/120 [01:31<00:00,  1.31batch/s, loss=0.0203]\n"
     ]
    },
    {
     "name": "stdout",
     "output_type": "stream",
     "text": [
      "Epoch 15/20, Loss: 0.0446\n"
     ]
    },
    {
     "name": "stderr",
     "output_type": "stream",
     "text": [
      "Epoch 16/20: 100%|██████████| 120/120 [01:31<00:00,  1.31batch/s, loss=0.0414]\n"
     ]
    },
    {
     "name": "stdout",
     "output_type": "stream",
     "text": [
      "Epoch 16/20, Loss: 0.0566\n"
     ]
    },
    {
     "name": "stderr",
     "output_type": "stream",
     "text": [
      "Epoch 17/20: 100%|██████████| 120/120 [01:31<00:00,  1.31batch/s, loss=0.0466]\n"
     ]
    },
    {
     "name": "stdout",
     "output_type": "stream",
     "text": [
      "Epoch 17/20, Loss: 0.0628\n"
     ]
    },
    {
     "name": "stderr",
     "output_type": "stream",
     "text": [
      "Epoch 18/20: 100%|██████████| 120/120 [01:31<00:00,  1.31batch/s, loss=0.0441]\n"
     ]
    },
    {
     "name": "stdout",
     "output_type": "stream",
     "text": [
      "Epoch 18/20, Loss: 0.0583\n"
     ]
    },
    {
     "name": "stderr",
     "output_type": "stream",
     "text": [
      "Epoch 19/20: 100%|██████████| 120/120 [01:31<00:00,  1.31batch/s, loss=0.0422]\n"
     ]
    },
    {
     "name": "stdout",
     "output_type": "stream",
     "text": [
      "Epoch 19/20, Loss: 0.0516\n"
     ]
    },
    {
     "name": "stderr",
     "output_type": "stream",
     "text": [
      "Epoch 20/20: 100%|██████████| 120/120 [01:31<00:00,  1.31batch/s, loss=0.0339]"
     ]
    },
    {
     "name": "stdout",
     "output_type": "stream",
     "text": [
      "Epoch 20/20, Loss: 0.0514\n"
     ]
    },
    {
     "name": "stderr",
     "output_type": "stream",
     "text": [
      "\n"
     ]
    }
   ],
   "source": [
    "# Train model\n",
    "device = torch.device(\"cuda:0\" if torch.cuda.is_available() else \"cpu\")\n",
    "model = model.to(device)\n",
    "criterion = nn.MSELoss()\n",
    "optimizer = torch.optim.Adam(model.parameters(), lr=0.001)\n",
    "\n",
    "# Filter data for the specific building (e.g., \"MEK\")\n",
    "building_id = \"OBS\"  # Replace with the desired building's identifier\n",
    "building_data = electricity_df_clean[building_id]\n",
    "\n",
    "# Use the filtered data for further processing\n",
    "train_data = train_data[[building_id]]\n",
    "test_data = test_data[[building_id]]\n",
    "# Define a function to create time-related features\n",
    "def create_time_features(index):\n",
    "    \"\"\"\n",
    "    Create time-related features based on the index (timestamps).\n",
    "    \"\"\"\n",
    "    time_features = pd.DataFrame(index=index)\n",
    "    time_features['hour'] = index.hour\n",
    "    time_features['day'] = index.day\n",
    "    time_features['weekday'] = index.weekday\n",
    "    time_features['month'] = index.month\n",
    "    return torch.tensor(time_features.values, dtype=torch.float32)\n",
    "\n",
    "# Training loop with time features\n",
    "epochs = 20\n",
    "for epoch in range(epochs):\n",
    "    model.train()\n",
    "    epoch_loss = 0\n",
    "    # Wrap the DataLoader with tqdm for batch progress\n",
    "    with tqdm(train_loader, desc=f\"Epoch {epoch+1}/{epochs}\", unit=\"batch\") as t:\n",
    "        for batch_X, batch_y in t:\n",
    "            batch_X, batch_y = batch_X.to(device), batch_y.to(device)\n",
    "            \n",
    "            # Use the timestamps from the DataFrame index\n",
    "            timestamps = train_data.index[:batch_X.size(1)]  # Adjust based on your DataLoader\n",
    "            x_mark_enc = create_time_features(timestamps).to(device)\n",
    "            \n",
    "            # For the decoder, use future timestamps (e.g., prediction horizon)\n",
    "            future_timestamps = train_data.index[batch_X.size(1):batch_X.size(1) + configs.pred_len]\n",
    "            x_mark_dec = create_time_features(future_timestamps).to(device)\n",
    "\n",
    "            optimizer.zero_grad()\n",
    "            outputs = model(batch_X, x_mark_enc, None, x_mark_dec)  # Pass all required inputs\n",
    "            \n",
    "            # Add a singleton dimension to batch_y\n",
    "            batch_y = batch_y.unsqueeze(-1)  # Ensure batch_y has shape [batch_size, pred_len, features]\n",
    "            \n",
    "            loss = criterion(outputs, batch_y)\n",
    "            loss.backward()\n",
    "            optimizer.step()\n",
    "            epoch_loss += loss.item()\n",
    "            \n",
    "            # Update tqdm with the current loss\n",
    "            t.set_postfix(loss=loss.item())\n",
    "    print(f\"Epoch {epoch+1}/{epochs}, Loss: {epoch_loss/len(train_loader):.4f}\")"
   ]
  },
  {
   "cell_type": "code",
   "execution_count": 105,
   "id": "2aee035c",
   "metadata": {},
   "outputs": [
    {
     "name": "stdout",
     "output_type": "stream",
     "text": [
      "Test MAPE for building 'MEK': 1.13%\n"
     ]
    }
   ],
   "source": [
    "# Evaluate model for a single building\n",
    "model.eval()\n",
    "test_dataset = torch.utils.data.TensorDataset(X_test.unsqueeze(-1), y_test)\n",
    "test_loader = DataLoader(test_dataset, batch_size=32, shuffle=False)\n",
    "\n",
    "actuals, predictions = [], []\n",
    "with torch.no_grad():\n",
    "    for batch_X, batch_y in test_loader:\n",
    "        batch_X, batch_y = batch_X.to(device), batch_y.to(device)\n",
    "        \n",
    "        # Generate time-related features for the encoder and decoder\n",
    "        timestamps = test_data.index[:batch_X.size(1)]  # Adjust based on your DataLoader\n",
    "        x_mark_enc = create_time_features(timestamps).to(device)\n",
    "        future_timestamps = test_data.index[batch_X.size(1):batch_X.size(1) + configs.pred_len]\n",
    "        x_mark_dec = create_time_features(future_timestamps).to(device)\n",
    "        \n",
    "        # Generate predictions\n",
    "        outputs = model(batch_X, x_mark_enc, None, x_mark_dec)\n",
    "        \n",
    "        # Add predictions and actuals to the lists\n",
    "        actuals.append(batch_y.cpu().numpy())\n",
    "        predictions.append(outputs.cpu().numpy())\n",
    "\n",
    "# Concatenate all batches\n",
    "actuals = np.concatenate(actuals, axis=0)\n",
    "predictions = np.concatenate(predictions, axis=0)\n",
    "\n",
    "# Reshape to 2D or 1D if necessary\n",
    "actuals = actuals.squeeze()  # Remove singleton dimensions\n",
    "predictions = predictions.squeeze()  # Remove singleton dimensions\n",
    "\n",
    "# Calculate Mean Absolute Percentage Error (MAPE) for the specific building\n",
    "mape = mean_absolute_percentage_error(actuals, predictions)\n",
    "print(f\"Test MAPE for building 'MEK': {mape:.2f}%\")"
   ]
  },
  {
   "cell_type": "code",
   "execution_count": 106,
   "id": "4479841a",
   "metadata": {},
   "outputs": [
    {
     "name": "stdout",
     "output_type": "stream",
     "text": [
      "Test MAPE for building 'OBS': 0.07%\n"
     ]
    },
    {
     "data": {
      "image/png": "[encoded data removed]",
      "text/plain": [
       "<Figure size 1200x600 with 1 Axes>"
      ]
     },
     "metadata": {},
     "output_type": "display_data"
    }
   ],
   "source": [
    "# Unscale the predictions and actuals\n",
    "actuals_unscaled = scaler.inverse_transform(actuals.reshape(-1, 1)).squeeze()\n",
    "predictions_unscaled = scaler.inverse_transform(predictions.reshape(-1, 1)).squeeze()\n",
    "\n",
    "# Calculate MAPE on unscaled data\n",
    "mape = mean_absolute_percentage_error(actuals_unscaled, predictions_unscaled)\n",
    "print(f\"Test MAPE for building '{building_id}': {mape:.2f}%\")\n",
    "\n",
    "# Plot the entire run of predictions vs actuals\n",
    "plt.figure(figsize=(12, 6))\n",
    "plt.plot(actuals_unscaled, label=\"Actuals\", color=\"blue\")\n",
    "plt.plot(predictions_unscaled, label=\"Predictions\", color=\"red\")\n",
    "plt.title(f\"Predictions vs Actuals for Building '{building_id}' (Full Run)\")\n",
    "plt.xlabel(\"Time Steps\")\n",
    "plt.ylabel(\"Electricity Usage (kWh)\")\n",
    "plt.legend()\n",
    "plt.grid(True)\n",
    "plt.tight_layout()\n",
    "plt.show()"
   ]
  },
  {
   "cell_type": "code",
   "execution_count": 110,
   "id": "23fa3f60",
   "metadata": {},
   "outputs": [
    {
     "name": "stderr",
     "output_type": "stream",
     "text": [
      "C:\\Users\\tavim\\AppData\\Local\\Temp\\ipykernel_17076\\215836489.py:22: FutureWarning: Series.__getitem__ treating keys as positions is deprecated. In a future version, integer keys will always be treated as labels (consistent with DataFrame behavior). To access a value by position, use `ser.iloc[pos]`\n",
      "  electricity_df_clean.rename(columns={new_header[0]: \"Timestamp\"}, inplace=True)\n"
     ]
    },
    {
     "name": "stdout",
     "output_type": "stream",
     "text": [
      "Training Months: [7, 9]\n",
      "Testing Months: [1, 2, 3, 4, 5, 6, 8, 10, 11, 12]\n",
      "Training Data Shape: torch.Size([1272, 168]), torch.Size([1272, 24])\n",
      "Testing Data Shape: torch.Size([7102, 168]), torch.Size([7102, 24])\n"
     ]
    },
    {
     "name": "stderr",
     "output_type": "stream",
     "text": [
      "Epoch 1/20: 100%|██████████| 38/38 [00:28<00:00,  1.31batch/s, loss=0.246]\n"
     ]
    },
    {
     "name": "stdout",
     "output_type": "stream",
     "text": [
      "Epoch 1/20, Loss: 0.5913\n"
     ]
    },
    {
     "name": "stderr",
     "output_type": "stream",
     "text": [
      "Epoch 2/20: 100%|██████████| 38/38 [00:28<00:00,  1.33batch/s, loss=0.0944]\n"
     ]
    },
    {
     "name": "stdout",
     "output_type": "stream",
     "text": [
      "Epoch 2/20, Loss: 0.1447\n"
     ]
    },
    {
     "name": "stderr",
     "output_type": "stream",
     "text": [
      "Epoch 3/20: 100%|██████████| 38/38 [00:28<00:00,  1.33batch/s, loss=0.104] \n"
     ]
    },
    {
     "name": "stdout",
     "output_type": "stream",
     "text": [
      "Epoch 3/20, Loss: 0.1103\n"
     ]
    },
    {
     "name": "stderr",
     "output_type": "stream",
     "text": [
      "Epoch 4/20: 100%|██████████| 38/38 [00:28<00:00,  1.31batch/s, loss=0.0804]\n"
     ]
    },
    {
     "name": "stdout",
     "output_type": "stream",
     "text": [
      "Epoch 4/20, Loss: 0.0975\n"
     ]
    },
    {
     "name": "stderr",
     "output_type": "stream",
     "text": [
      "Epoch 5/20: 100%|██████████| 38/38 [00:29<00:00,  1.31batch/s, loss=0.1]   \n"
     ]
    },
    {
     "name": "stdout",
     "output_type": "stream",
     "text": [
      "Epoch 5/20, Loss: 0.0892\n"
     ]
    },
    {
     "name": "stderr",
     "output_type": "stream",
     "text": [
      "Epoch 6/20: 100%|██████████| 38/38 [00:29<00:00,  1.31batch/s, loss=0.0903]\n"
     ]
    },
    {
     "name": "stdout",
     "output_type": "stream",
     "text": [
      "Epoch 6/20, Loss: 0.0783\n"
     ]
    },
    {
     "name": "stderr",
     "output_type": "stream",
     "text": [
      "Epoch 7/20: 100%|██████████| 38/38 [00:29<00:00,  1.31batch/s, loss=0.0966]\n"
     ]
    },
    {
     "name": "stdout",
     "output_type": "stream",
     "text": [
      "Epoch 7/20, Loss: 0.0669\n"
     ]
    },
    {
     "name": "stderr",
     "output_type": "stream",
     "text": [
      "Epoch 8/20: 100%|██████████| 38/38 [00:29<00:00,  1.31batch/s, loss=0.108] \n"
     ]
    },
    {
     "name": "stdout",
     "output_type": "stream",
     "text": [
      "Epoch 8/20, Loss: 0.0630\n"
     ]
    },
    {
     "name": "stderr",
     "output_type": "stream",
     "text": [
      "Epoch 9/20: 100%|██████████| 38/38 [00:29<00:00,  1.31batch/s, loss=0.0709]\n"
     ]
    },
    {
     "name": "stdout",
     "output_type": "stream",
     "text": [
      "Epoch 9/20, Loss: 0.0542\n"
     ]
    },
    {
     "name": "stderr",
     "output_type": "stream",
     "text": [
      "Epoch 10/20: 100%|██████████| 38/38 [00:29<00:00,  1.31batch/s, loss=0.0527]\n"
     ]
    },
    {
     "name": "stdout",
     "output_type": "stream",
     "text": [
      "Epoch 10/20, Loss: 0.0508\n"
     ]
    },
    {
     "name": "stderr",
     "output_type": "stream",
     "text": [
      "Epoch 11/20: 100%|██████████| 38/38 [00:29<00:00,  1.31batch/s, loss=0.0387]\n"
     ]
    },
    {
     "name": "stdout",
     "output_type": "stream",
     "text": [
      "Epoch 11/20, Loss: 0.0472\n"
     ]
    },
    {
     "name": "stderr",
     "output_type": "stream",
     "text": [
      "Epoch 12/20: 100%|██████████| 38/38 [00:29<00:00,  1.31batch/s, loss=0.0465]\n"
     ]
    },
    {
     "name": "stdout",
     "output_type": "stream",
     "text": [
      "Epoch 12/20, Loss: 0.0494\n"
     ]
    },
    {
     "name": "stderr",
     "output_type": "stream",
     "text": [
      "Epoch 13/20: 100%|██████████| 38/38 [00:29<00:00,  1.31batch/s, loss=0.019] \n"
     ]
    },
    {
     "name": "stdout",
     "output_type": "stream",
     "text": [
      "Epoch 13/20, Loss: 0.0435\n"
     ]
    },
    {
     "name": "stderr",
     "output_type": "stream",
     "text": [
      "Epoch 14/20: 100%|██████████| 38/38 [00:29<00:00,  1.31batch/s, loss=0.0902]\n"
     ]
    },
    {
     "name": "stdout",
     "output_type": "stream",
     "text": [
      "Epoch 14/20, Loss: 0.0447\n"
     ]
    },
    {
     "name": "stderr",
     "output_type": "stream",
     "text": [
      "Epoch 15/20: 100%|██████████| 38/38 [00:29<00:00,  1.31batch/s, loss=0.028] \n"
     ]
    },
    {
     "name": "stdout",
     "output_type": "stream",
     "text": [
      "Epoch 15/20, Loss: 0.0442\n"
     ]
    },
    {
     "name": "stderr",
     "output_type": "stream",
     "text": [
      "Epoch 16/20: 100%|██████████| 38/38 [00:29<00:00,  1.31batch/s, loss=0.0257]\n"
     ]
    },
    {
     "name": "stdout",
     "output_type": "stream",
     "text": [
      "Epoch 16/20, Loss: 0.0379\n"
     ]
    },
    {
     "name": "stderr",
     "output_type": "stream",
     "text": [
      "Epoch 17/20: 100%|██████████| 38/38 [00:29<00:00,  1.31batch/s, loss=0.0312]\n"
     ]
    },
    {
     "name": "stdout",
     "output_type": "stream",
     "text": [
      "Epoch 17/20, Loss: 0.0375\n"
     ]
    },
    {
     "name": "stderr",
     "output_type": "stream",
     "text": [
      "Epoch 18/20: 100%|██████████| 38/38 [00:28<00:00,  1.32batch/s, loss=0.0321]\n"
     ]
    },
    {
     "name": "stdout",
     "output_type": "stream",
     "text": [
      "Epoch 18/20, Loss: 0.0394\n"
     ]
    },
    {
     "name": "stderr",
     "output_type": "stream",
     "text": [
      "Epoch 19/20: 100%|██████████| 38/38 [00:29<00:00,  1.31batch/s, loss=0.02]  \n"
     ]
    },
    {
     "name": "stdout",
     "output_type": "stream",
     "text": [
      "Epoch 19/20, Loss: 0.0378\n"
     ]
    },
    {
     "name": "stderr",
     "output_type": "stream",
     "text": [
      "Epoch 20/20: 100%|██████████| 38/38 [00:28<00:00,  1.31batch/s, loss=0.0272]\n"
     ]
    },
    {
     "name": "stdout",
     "output_type": "stream",
     "text": [
      "Epoch 20/20, Loss: 0.0369\n",
      "Test MAPE for building 'OBS': 0.06%\n"
     ]
    },
    {
     "data": {
      "image/png": "[encoded data removed]",
      "text/plain": [
       "<Figure size 1200x600 with 1 Axes>"
      ]
     },
     "metadata": {},
     "output_type": "display_data"
    }
   ],
   "source": [
    "# Import necessary libraries\n",
    "import pandas as pd\n",
    "import numpy as np\n",
    "import torch\n",
    "import torch.nn as nn\n",
    "from sklearn.preprocessing import StandardScaler\n",
    "from torch.utils.data import DataLoader, Dataset\n",
    "from sklearn.metrics import mean_absolute_percentage_error\n",
    "import matplotlib.pyplot as plt\n",
    "from tqdm import tqdm\n",
    "import random\n",
    "\n",
    "# Load the Excel file\n",
    "xls = pd.ExcelFile(\"Buildings_el.xlsx\")\n",
    "electricity_df = xls.parse('Electricity kWh')\n",
    "weather_df = xls.parse('Weather archive')\n",
    "\n",
    "# Clean electricity data\n",
    "new_header = electricity_df.iloc[0]\n",
    "electricity_df_clean = electricity_df[1:].copy()\n",
    "electricity_df_clean.columns = new_header\n",
    "electricity_df_clean.rename(columns={new_header[0]: \"Timestamp\"}, inplace=True)\n",
    "electricity_df_clean[\"Timestamp\"] = pd.to_datetime(electricity_df_clean[\"Timestamp\"])\n",
    "electricity_df_clean.set_index(\"Timestamp\", inplace=True)\n",
    "electricity_df_clean = electricity_df_clean.apply(pd.to_numeric, errors='coerce')\n",
    "electricity_df_clean = electricity_df_clean.groupby(electricity_df_clean.index).mean()\n",
    "electricity_df_clean[\"Total_kWh\"] = electricity_df_clean.sum(axis=1)\n",
    "\n",
    "# Clean weather data\n",
    "weather_df.columns = weather_df.iloc[1]\n",
    "weather_df_clean = weather_df[2:].copy()\n",
    "weather_df_clean.rename(columns={\"Local time in Tallinn \": \"Timestamp\"}, inplace=True)\n",
    "weather_df_clean[\"Timestamp\"] = pd.to_datetime(weather_df_clean[\"Timestamp\"], dayfirst=True, errors='coerce')\n",
    "\n",
    "# Rename relevant columns for clarity\n",
    "weather_df_clean.rename(columns={\n",
    "    \"T\": \"Temperature (°C)\",\n",
    "    \"P0\": \"Pressure (mmHg)\",\n",
    "    \"U\": \"Humidity (%)\",\n",
    "    \"Ff\": \"Wind speed (m/s)\"\n",
    "}, inplace=True)\n",
    "\n",
    "# Define numeric columns\n",
    "numeric_cols = [\"Temperature (°C)\", \"Pressure (mmHg)\", \"Wind speed (m/s)\"]\n",
    "\n",
    "# Coerce non-numeric values to NaN\n",
    "for col in numeric_cols:\n",
    "    weather_df_clean[col] = pd.to_numeric(weather_df_clean[col], errors='coerce')\n",
    "\n",
    "# Drop rows with invalid timestamps or all NaN numeric values\n",
    "weather_df_clean.dropna(subset=[\"Timestamp\"] + numeric_cols, how=\"all\", inplace=True)\n",
    "\n",
    "# Ensure only numeric columns are included for resampling\n",
    "weather_df_clean = weather_df_clean[[\"Timestamp\"] + numeric_cols]\n",
    "\n",
    "# Set the timestamp as the index and resample to hourly frequency\n",
    "weather_df_clean = weather_df_clean.set_index(\"Timestamp\").resample(\"h\").mean()\n",
    "\n",
    "# Merge datasets\n",
    "combined_df = electricity_df_clean.merge(weather_df_clean, left_index=True, right_index=True, how='inner')\n",
    "\n",
    "# Filter data for a specific building\n",
    "building_id = \"OBS\"  # Replace with the desired building's identifier\n",
    "building_data = combined_df[[building_id, \"Total_kWh\", \"Temperature (°C)\", \"Pressure (mmHg)\", \"Wind speed (m/s)\"]]\n",
    "\n",
    "# Use the filtered data for further processing\n",
    "data_2023 = building_data.loc['2023']  # Filter data for the year 2023\n",
    "\n",
    "# Randomly select 2 months for training\n",
    "all_months = list(range(1, 13))\n",
    "train_months = random.sample(all_months, 2)\n",
    "test_months = [month for month in all_months if month not in train_months]\n",
    "\n",
    "print(f\"Training Months: {train_months}\")\n",
    "print(f\"Testing Months: {test_months}\")\n",
    "\n",
    "# Prepare train and test data\n",
    "train_data = pd.DataFrame()\n",
    "test_data = pd.DataFrame()\n",
    "\n",
    "# Add data for the selected training months\n",
    "for month in train_months:\n",
    "    month_data = data_2023[data_2023.index.month == month]\n",
    "    train_data = pd.concat([train_data, month_data])\n",
    "\n",
    "# Add data for the remaining testing months\n",
    "for month in test_months:\n",
    "    month_data = data_2023[data_2023.index.month == month]\n",
    "    test_data = pd.concat([test_data, month_data])\n",
    "\n",
    "# Sort the data by index\n",
    "train_data.sort_index(inplace=True)\n",
    "test_data.sort_index(inplace=True)\n",
    "\n",
    "# Normalize data\n",
    "scaler = StandardScaler()\n",
    "train_data[\"Total_kWh\"] = scaler.fit_transform(train_data[[\"Total_kWh\"]])\n",
    "test_data[\"Total_kWh\"] = scaler.transform(test_data[[\"Total_kWh\"]])\n",
    "\n",
    "# Create sequences\n",
    "def create_sequences(data, seq_len, pred_len):\n",
    "    X, y = [], []\n",
    "    for i in range(len(data) - seq_len - pred_len):\n",
    "        X.append(data[i:i+seq_len].values)\n",
    "        y.append(data[i+seq_len:i+seq_len+pred_len].values)\n",
    "    return np.array(X), np.array(y)\n",
    "\n",
    "seq_len = 168\n",
    "pred_len = 24\n",
    "X_train, y_train = create_sequences(train_data[\"Total_kWh\"], seq_len, pred_len)\n",
    "X_test, y_test = create_sequences(test_data[\"Total_kWh\"], seq_len, pred_len)\n",
    "\n",
    "X_train = torch.tensor(X_train, dtype=torch.float32)\n",
    "y_train = torch.tensor(y_train, dtype=torch.float32)\n",
    "X_test = torch.tensor(X_test, dtype=torch.float32)\n",
    "y_test = torch.tensor(y_test, dtype=torch.float32)\n",
    "\n",
    "print(f\"Training Data Shape: {X_train.shape}, {y_train.shape}\")\n",
    "print(f\"Testing Data Shape: {X_test.shape}, {y_test.shape}\")\n",
    "\n",
    "# Import TimesNet\n",
    "import sys\n",
    "sys.path.append(r\"E:/Facultate/fewshot-ts-embedding/fewshot-ts-embedding\")\n",
    "from libs.timeserieslibrary.models.TimesNet import Model\n",
    "\n",
    "# Define the TimesNet model\n",
    "class Configs:\n",
    "    task_name = 'long_term_forecast'\n",
    "    seq_len = 168\n",
    "    label_len = 24\n",
    "    pred_len = 24\n",
    "    enc_in = 1\n",
    "    dec_in = 1\n",
    "    c_out = 1\n",
    "    d_model = 64\n",
    "    e_layers = 2\n",
    "    d_ff = 256\n",
    "    dropout = 0.1\n",
    "    embed = \"timeF\"\n",
    "    freq = \"h\"\n",
    "    top_k = 5\n",
    "    num_kernels = 6\n",
    "\n",
    "configs = Configs()\n",
    "device = torch.device(\"cuda:0\" if torch.cuda.is_available() else \"cpu\")\n",
    "model = Model(configs).to(device)\n",
    "\n",
    "# Define loss and optimizer\n",
    "criterion = nn.MSELoss()\n",
    "optimizer = torch.optim.Adam(model.parameters(), lr=0.001)\n",
    "\n",
    "# Training loop\n",
    "def create_time_features(index):\n",
    "    \"\"\"\n",
    "    Create time-related features based on the index (timestamps).\n",
    "    \"\"\"\n",
    "    time_features = pd.DataFrame(index=index)\n",
    "    time_features['hour'] = index.hour\n",
    "    time_features['day'] = index.day\n",
    "    time_features['weekday'] = index.weekday\n",
    "    time_features['month'] = index.month\n",
    "    return torch.tensor(time_features.values, dtype=torch.float32)\n",
    "\n",
    "# Training loop with time features\n",
    "epochs = 20\n",
    "for epoch in range(epochs):\n",
    "    model.train()\n",
    "    epoch_loss = 0\n",
    "    # Wrap the DataLoader with tqdm for batch progress\n",
    "    with tqdm(train_loader, desc=f\"Epoch {epoch+1}/{epochs}\", unit=\"batch\") as t:\n",
    "        for batch_X, batch_y in t:\n",
    "            batch_X, batch_y = batch_X.to(device), batch_y.to(device)\n",
    "            \n",
    "            # Add a singleton dimension for the feature axis\n",
    "            batch_X = batch_X.unsqueeze(-1)  # Shape: [batch_size, seq_len, 1]\n",
    "            \n",
    "            # Generate time-related features for the encoder and decoder\n",
    "            timestamps = train_data.index[:batch_X.size(1)]  # Adjust based on your DataLoader\n",
    "            x_mark_enc = create_time_features(timestamps).to(device)\n",
    "            future_timestamps = train_data.index[batch_X.size(1):batch_X.size(1) + configs.pred_len]\n",
    "            x_mark_dec = create_time_features(future_timestamps).to(device)\n",
    "\n",
    "            optimizer.zero_grad()\n",
    "            outputs = model(batch_X, x_mark_enc, None, x_mark_dec)  # Pass all required inputs\n",
    "            \n",
    "            # Add a singleton dimension to batch_y\n",
    "            batch_y = batch_y.unsqueeze(-1)  # Ensure batch_y has shape [batch_size, pred_len, features]\n",
    "            \n",
    "            loss = criterion(outputs, batch_y)\n",
    "            loss.backward()\n",
    "            optimizer.step()\n",
    "            epoch_loss += loss.item()\n",
    "            \n",
    "            # Update tqdm with the current loss\n",
    "            t.set_postfix(loss=loss.item())\n",
    "    print(f\"Epoch {epoch+1}/{epochs}, Loss: {epoch_loss/len(train_loader):.4f}\")\n",
    "\n",
    "# Evaluate model\n",
    "model.eval()\n",
    "test_loader = DataLoader(torch.utils.data.TensorDataset(X_test, y_test), batch_size=32, shuffle=False)\n",
    "\n",
    "actuals, predictions = [], []\n",
    "with torch.no_grad():\n",
    "    for batch_X, batch_y in test_loader:\n",
    "        batch_X, batch_y = batch_X.to(device), batch_y.to(device)\n",
    "        \n",
    "        # Add a singleton dimension for the feature axis\n",
    "        batch_X = batch_X.unsqueeze(-1)  # Shape: [batch_size, seq_len, 1]\n",
    "        \n",
    "        # Generate time-related features for the encoder and decoder\n",
    "        timestamps = test_data.index[:batch_X.size(1)]  # Adjust based on your DataLoader\n",
    "        x_mark_enc = create_time_features(timestamps).to(device)\n",
    "        future_timestamps = test_data.index[batch_X.size(1):batch_X.size(1) + configs.pred_len]\n",
    "        x_mark_dec = create_time_features(future_timestamps).to(device)\n",
    "        \n",
    "        # Generate predictions\n",
    "        outputs = model(batch_X, x_mark_enc, None, x_mark_dec)\n",
    "        \n",
    "        # Add predictions and actuals to the lists\n",
    "        actuals.append(batch_y.cpu().numpy())\n",
    "        predictions.append(outputs.cpu().numpy())\n",
    "\n",
    "# Concatenate all batches\n",
    "actuals = np.concatenate(actuals, axis=0)\n",
    "predictions = np.concatenate(predictions, axis=0)\n",
    "\n",
    "# Unscale the predictions and actuals\n",
    "actuals_unscaled = scaler.inverse_transform(actuals.reshape(-1, 1)).squeeze()\n",
    "predictions_unscaled = scaler.inverse_transform(predictions.reshape(-1, 1)).squeeze()\n",
    "\n",
    "# Calculate MAPE\n",
    "mape = mean_absolute_percentage_error(actuals_unscaled, predictions_unscaled)\n",
    "print(f\"Test MAPE for building '{building_id}': {mape:.2f}%\")\n",
    "\n",
    "# Plot predictions vs actuals\n",
    "plt.figure(figsize=(12, 6))\n",
    "plt.plot(actuals_unscaled, label=\"Actuals\", color=\"blue\")\n",
    "plt.plot(predictions_unscaled, label=\"Predictions\", color=\"red\")\n",
    "plt.title(f\"Predictions vs Actuals for Building '{building_id}'\")\n",
    "plt.xlabel(\"Time Steps\")\n",
    "plt.ylabel(\"Electricity Usage (kWh)\")\n",
    "plt.legend()\n",
    "plt.grid(True)\n",
    "plt.tight_layout()\n",
    "plt.show()"
   ]
  }
 ],
 "metadata": {
  "kernelspec": {
   "display_name": "visuals",
   "language": "python",
   "name": "visuals"
  },
  "language_info": {
   "codemirror_mode": {
    "name": "ipython",
    "version": 3
   },
   "file_extension": ".py",
   "mimetype": "text/x-python",
   "name": "python",
   "nbconvert_exporter": "python",
   "pygments_lexer": "ipython3",
   "version": "3.12.10"
  }
 },
 "nbformat": 4,
 "nbformat_minor": 5
}
