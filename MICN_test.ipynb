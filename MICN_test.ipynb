{
 "cells": [
  {
   "cell_type": "markdown",
   "metadata": {},
   "source": [
    "# MICN Model Implementation\n",
    "\n",
    "This notebook implements the MICN model as defined in the `MICN.py` file. It includes data loading, preprocessing, model initialization, training, and evaluation steps tailored for the MICN model."
   ]
  },
  {
   "cell_type": "code",
   "execution_count": 35,
   "metadata": {},
   "outputs": [
    {
     "name": "stderr",
     "output_type": "stream",
     "text": [
      "C:\\Users\\S11\\AppData\\Local\\Temp\\ipykernel_10304\\1623325164.py:24: FutureWarning: Series.__getitem__ treating keys as positions is deprecated. In a future version, integer keys will always be treated as labels (consistent with DataFrame behavior). To access a value by position, use `ser.iloc[pos]`\n",
      "  electricity_df_clean.rename(columns={new_header[0]: \"Timestamp\"}, inplace=True)\n"
     ]
    },
    {
     "name": "stdout",
     "output_type": "stream",
     "text": [
      "Training Months: [10, 9]\n",
      "Testing Months: [1, 2, 3, 4, 5, 6, 7, 8, 11, 12]\n",
      "Pretraining Buildings: ['U05, U04, U04B, GEO', 'LIB', 'OBS', 'D04', 'U06, U06A, U05B', 'S01', 'ICT', 'MEK']\n",
      "Fine-Tuning/Test Buildings: ['SOC', 'TEG']\n",
      "Fine-Tuning Months: [10, 12]\n",
      "Testing Months: [1, 2, 3, 4, 5, 6, 7, 8, 9, 11]\n"
     ]
    },
    {
     "name": "stderr",
     "output_type": "stream",
     "text": [
      "C:\\Users\\S11\\AppData\\Local\\Temp\\ipykernel_10304\\1623325164.py:204: SettingWithCopyWarning: \n",
      "A value is trying to be set on a copy of a slice from a DataFrame.\n",
      "Try using .loc[row_indexer,col_indexer] = value instead\n",
      "\n",
      "See the caveats in the documentation: https://pandas.pydata.org/pandas-docs/stable/user_guide/indexing.html#returning-a-view-versus-a-copy\n",
      "  pretrain_data[\"Total_kWh\"] = scaler.fit_transform(pretrain_data[[\"Total_kWh\"]])\n"
     ]
    },
    {
     "name": "stdout",
     "output_type": "stream",
     "text": [
      "Pretraining Data Shape: torch.Size([8566, 168]), torch.Size([8566, 24])\n",
      "Fine-Tuning Data Shape: torch.Size([1296, 168]), torch.Size([1296, 24])\n",
      "Testing Data Shape: torch.Size([7078, 168]), torch.Size([7078, 24])\n"
     ]
    },
    {
     "name": "stderr",
     "output_type": "stream",
     "text": [
      "Pretraining Epoch 1/20: 100%|██████████| 268/268 [00:21<00:00, 12.50batch/s, loss=0.0587]\n"
     ]
    },
    {
     "name": "stdout",
     "output_type": "stream",
     "text": [
      "Pretraining Epoch 1/20, Loss: 0.2612\n"
     ]
    },
    {
     "name": "stderr",
     "output_type": "stream",
     "text": [
      "Pretraining Epoch 2/20: 100%|██████████| 268/268 [00:20<00:00, 12.77batch/s, loss=0.0464]\n"
     ]
    },
    {
     "name": "stdout",
     "output_type": "stream",
     "text": [
      "Pretraining Epoch 2/20, Loss: 0.0792\n"
     ]
    },
    {
     "name": "stderr",
     "output_type": "stream",
     "text": [
      "Pretraining Epoch 3/20: 100%|██████████| 268/268 [00:21<00:00, 12.49batch/s, loss=0.0637]\n"
     ]
    },
    {
     "name": "stdout",
     "output_type": "stream",
     "text": [
      "Pretraining Epoch 3/20, Loss: 0.0654\n"
     ]
    },
    {
     "name": "stderr",
     "output_type": "stream",
     "text": [
      "Pretraining Epoch 4/20: 100%|██████████| 268/268 [00:21<00:00, 12.74batch/s, loss=0.0361]\n"
     ]
    },
    {
     "name": "stdout",
     "output_type": "stream",
     "text": [
      "Pretraining Epoch 4/20, Loss: 0.0571\n"
     ]
    },
    {
     "name": "stderr",
     "output_type": "stream",
     "text": [
      "Pretraining Epoch 5/20: 100%|██████████| 268/268 [00:21<00:00, 12.74batch/s, loss=0.0832]\n"
     ]
    },
    {
     "name": "stdout",
     "output_type": "stream",
     "text": [
      "Pretraining Epoch 5/20, Loss: 0.0522\n"
     ]
    },
    {
     "name": "stderr",
     "output_type": "stream",
     "text": [
      "Pretraining Epoch 6/20: 100%|██████████| 268/268 [00:21<00:00, 12.67batch/s, loss=0.0267]\n"
     ]
    },
    {
     "name": "stdout",
     "output_type": "stream",
     "text": [
      "Pretraining Epoch 6/20, Loss: 0.0486\n"
     ]
    },
    {
     "name": "stderr",
     "output_type": "stream",
     "text": [
      "Pretraining Epoch 7/20: 100%|██████████| 268/268 [00:21<00:00, 12.67batch/s, loss=0.0414]\n"
     ]
    },
    {
     "name": "stdout",
     "output_type": "stream",
     "text": [
      "Pretraining Epoch 7/20, Loss: 0.0447\n"
     ]
    },
    {
     "name": "stderr",
     "output_type": "stream",
     "text": [
      "Pretraining Epoch 8/20: 100%|██████████| 268/268 [00:21<00:00, 12.70batch/s, loss=0.0447]\n"
     ]
    },
    {
     "name": "stdout",
     "output_type": "stream",
     "text": [
      "Pretraining Epoch 8/20, Loss: 0.0434\n"
     ]
    },
    {
     "name": "stderr",
     "output_type": "stream",
     "text": [
      "Pretraining Epoch 9/20: 100%|██████████| 268/268 [00:21<00:00, 12.62batch/s, loss=0.0401]\n"
     ]
    },
    {
     "name": "stdout",
     "output_type": "stream",
     "text": [
      "Pretraining Epoch 9/20, Loss: 0.0401\n"
     ]
    },
    {
     "name": "stderr",
     "output_type": "stream",
     "text": [
      "Pretraining Epoch 10/20: 100%|██████████| 268/268 [00:20<00:00, 12.79batch/s, loss=0.0256]\n"
     ]
    },
    {
     "name": "stdout",
     "output_type": "stream",
     "text": [
      "Pretraining Epoch 10/20, Loss: 0.0386\n"
     ]
    },
    {
     "name": "stderr",
     "output_type": "stream",
     "text": [
      "Pretraining Epoch 11/20: 100%|██████████| 268/268 [00:20<00:00, 12.80batch/s, loss=0.0321]\n"
     ]
    },
    {
     "name": "stdout",
     "output_type": "stream",
     "text": [
      "Pretraining Epoch 11/20, Loss: 0.0364\n"
     ]
    },
    {
     "name": "stderr",
     "output_type": "stream",
     "text": [
      "Pretraining Epoch 12/20: 100%|██████████| 268/268 [00:20<00:00, 12.80batch/s, loss=0.0341]\n"
     ]
    },
    {
     "name": "stdout",
     "output_type": "stream",
     "text": [
      "Pretraining Epoch 12/20, Loss: 0.0353\n"
     ]
    },
    {
     "name": "stderr",
     "output_type": "stream",
     "text": [
      "Pretraining Epoch 13/20: 100%|██████████| 268/268 [00:21<00:00, 12.75batch/s, loss=0.0405]\n"
     ]
    },
    {
     "name": "stdout",
     "output_type": "stream",
     "text": [
      "Pretraining Epoch 13/20, Loss: 0.0351\n"
     ]
    },
    {
     "name": "stderr",
     "output_type": "stream",
     "text": [
      "Pretraining Epoch 14/20: 100%|██████████| 268/268 [00:20<00:00, 12.89batch/s, loss=0.0395]\n"
     ]
    },
    {
     "name": "stdout",
     "output_type": "stream",
     "text": [
      "Pretraining Epoch 14/20, Loss: 0.0334\n"
     ]
    },
    {
     "name": "stderr",
     "output_type": "stream",
     "text": [
      "Pretraining Epoch 15/20: 100%|██████████| 268/268 [00:21<00:00, 12.73batch/s, loss=0.0225]\n"
     ]
    },
    {
     "name": "stdout",
     "output_type": "stream",
     "text": [
      "Pretraining Epoch 15/20, Loss: 0.0311\n"
     ]
    },
    {
     "name": "stderr",
     "output_type": "stream",
     "text": [
      "Pretraining Epoch 16/20: 100%|██████████| 268/268 [00:21<00:00, 12.38batch/s, loss=0.0157]\n"
     ]
    },
    {
     "name": "stdout",
     "output_type": "stream",
     "text": [
      "Pretraining Epoch 16/20, Loss: 0.0319\n"
     ]
    },
    {
     "name": "stderr",
     "output_type": "stream",
     "text": [
      "Pretraining Epoch 17/20: 100%|██████████| 268/268 [00:21<00:00, 12.35batch/s, loss=0.0252]\n"
     ]
    },
    {
     "name": "stdout",
     "output_type": "stream",
     "text": [
      "Pretraining Epoch 17/20, Loss: 0.0318\n"
     ]
    },
    {
     "name": "stderr",
     "output_type": "stream",
     "text": [
      "Pretraining Epoch 18/20: 100%|██████████| 268/268 [00:20<00:00, 12.83batch/s, loss=0.0232]\n"
     ]
    },
    {
     "name": "stdout",
     "output_type": "stream",
     "text": [
      "Pretraining Epoch 18/20, Loss: 0.0313\n"
     ]
    },
    {
     "name": "stderr",
     "output_type": "stream",
     "text": [
      "Pretraining Epoch 19/20: 100%|██████████| 268/268 [00:20<00:00, 12.77batch/s, loss=0.0252]\n"
     ]
    },
    {
     "name": "stdout",
     "output_type": "stream",
     "text": [
      "Pretraining Epoch 19/20, Loss: 0.0306\n"
     ]
    },
    {
     "name": "stderr",
     "output_type": "stream",
     "text": [
      "Pretraining Epoch 20/20: 100%|██████████| 268/268 [00:21<00:00, 12.74batch/s, loss=0.0317]\n"
     ]
    },
    {
     "name": "stdout",
     "output_type": "stream",
     "text": [
      "Pretraining Epoch 20/20, Loss: 0.0294\n"
     ]
    },
    {
     "name": "stderr",
     "output_type": "stream",
     "text": [
      "Fine-Tuning Epoch 1/20: 100%|██████████| 41/41 [00:03<00:00, 12.98batch/s, loss=0.0707]\n"
     ]
    },
    {
     "name": "stdout",
     "output_type": "stream",
     "text": [
      "Fine-Tuning Epoch 1/20, Loss: 0.0558\n"
     ]
    },
    {
     "name": "stderr",
     "output_type": "stream",
     "text": [
      "Fine-Tuning Epoch 2/20: 100%|██████████| 41/41 [00:03<00:00, 12.66batch/s, loss=0.0194]\n"
     ]
    },
    {
     "name": "stdout",
     "output_type": "stream",
     "text": [
      "Fine-Tuning Epoch 2/20, Loss: 0.0352\n"
     ]
    },
    {
     "name": "stderr",
     "output_type": "stream",
     "text": [
      "Fine-Tuning Epoch 3/20: 100%|██████████| 41/41 [00:03<00:00, 12.77batch/s, loss=0.0188]\n"
     ]
    },
    {
     "name": "stdout",
     "output_type": "stream",
     "text": [
      "Fine-Tuning Epoch 3/20, Loss: 0.0274\n"
     ]
    },
    {
     "name": "stderr",
     "output_type": "stream",
     "text": [
      "Fine-Tuning Epoch 4/20: 100%|██████████| 41/41 [00:03<00:00, 12.90batch/s, loss=0.0166]\n"
     ]
    },
    {
     "name": "stdout",
     "output_type": "stream",
     "text": [
      "Fine-Tuning Epoch 4/20, Loss: 0.0249\n"
     ]
    },
    {
     "name": "stderr",
     "output_type": "stream",
     "text": [
      "Fine-Tuning Epoch 5/20: 100%|██████████| 41/41 [00:03<00:00, 12.73batch/s, loss=0.0143]\n"
     ]
    },
    {
     "name": "stdout",
     "output_type": "stream",
     "text": [
      "Fine-Tuning Epoch 5/20, Loss: 0.0240\n"
     ]
    },
    {
     "name": "stderr",
     "output_type": "stream",
     "text": [
      "Fine-Tuning Epoch 6/20: 100%|██████████| 41/41 [00:03<00:00, 13.02batch/s, loss=0.0123] \n"
     ]
    },
    {
     "name": "stdout",
     "output_type": "stream",
     "text": [
      "Fine-Tuning Epoch 6/20, Loss: 0.0213\n"
     ]
    },
    {
     "name": "stderr",
     "output_type": "stream",
     "text": [
      "Fine-Tuning Epoch 7/20: 100%|██████████| 41/41 [00:03<00:00, 12.99batch/s, loss=0.019] \n"
     ]
    },
    {
     "name": "stdout",
     "output_type": "stream",
     "text": [
      "Fine-Tuning Epoch 7/20, Loss: 0.0185\n"
     ]
    },
    {
     "name": "stderr",
     "output_type": "stream",
     "text": [
      "Fine-Tuning Epoch 8/20: 100%|██████████| 41/41 [00:03<00:00, 13.04batch/s, loss=0.01]  \n"
     ]
    },
    {
     "name": "stdout",
     "output_type": "stream",
     "text": [
      "Fine-Tuning Epoch 8/20, Loss: 0.0181\n"
     ]
    },
    {
     "name": "stderr",
     "output_type": "stream",
     "text": [
      "Fine-Tuning Epoch 9/20: 100%|██████████| 41/41 [00:03<00:00, 12.55batch/s, loss=0.0161]\n"
     ]
    },
    {
     "name": "stdout",
     "output_type": "stream",
     "text": [
      "Fine-Tuning Epoch 9/20, Loss: 0.0177\n"
     ]
    },
    {
     "name": "stderr",
     "output_type": "stream",
     "text": [
      "Fine-Tuning Epoch 10/20: 100%|██████████| 41/41 [00:03<00:00, 13.02batch/s, loss=0.0114]\n"
     ]
    },
    {
     "name": "stdout",
     "output_type": "stream",
     "text": [
      "Fine-Tuning Epoch 10/20, Loss: 0.0148\n"
     ]
    },
    {
     "name": "stderr",
     "output_type": "stream",
     "text": [
      "Fine-Tuning Epoch 11/20: 100%|██████████| 41/41 [00:03<00:00, 12.46batch/s, loss=0.0136]\n"
     ]
    },
    {
     "name": "stdout",
     "output_type": "stream",
     "text": [
      "Fine-Tuning Epoch 11/20, Loss: 0.0137\n"
     ]
    },
    {
     "name": "stderr",
     "output_type": "stream",
     "text": [
      "Fine-Tuning Epoch 12/20: 100%|██████████| 41/41 [00:03<00:00, 12.49batch/s, loss=0.0168] \n"
     ]
    },
    {
     "name": "stdout",
     "output_type": "stream",
     "text": [
      "Fine-Tuning Epoch 12/20, Loss: 0.0129\n"
     ]
    },
    {
     "name": "stderr",
     "output_type": "stream",
     "text": [
      "Fine-Tuning Epoch 13/20: 100%|██████████| 41/41 [00:03<00:00, 13.00batch/s, loss=0.0135] \n"
     ]
    },
    {
     "name": "stdout",
     "output_type": "stream",
     "text": [
      "Fine-Tuning Epoch 13/20, Loss: 0.0121\n"
     ]
    },
    {
     "name": "stderr",
     "output_type": "stream",
     "text": [
      "Fine-Tuning Epoch 14/20: 100%|██████████| 41/41 [00:03<00:00, 13.00batch/s, loss=0.0117] \n"
     ]
    },
    {
     "name": "stdout",
     "output_type": "stream",
     "text": [
      "Fine-Tuning Epoch 14/20, Loss: 0.0115\n"
     ]
    },
    {
     "name": "stderr",
     "output_type": "stream",
     "text": [
      "Fine-Tuning Epoch 15/20: 100%|██████████| 41/41 [00:03<00:00, 12.70batch/s, loss=0.0156]\n"
     ]
    },
    {
     "name": "stdout",
     "output_type": "stream",
     "text": [
      "Fine-Tuning Epoch 15/20, Loss: 0.0119\n"
     ]
    },
    {
     "name": "stderr",
     "output_type": "stream",
     "text": [
      "Fine-Tuning Epoch 16/20: 100%|██████████| 41/41 [00:03<00:00, 13.01batch/s, loss=0.0143] \n"
     ]
    },
    {
     "name": "stdout",
     "output_type": "stream",
     "text": [
      "Fine-Tuning Epoch 16/20, Loss: 0.0115\n"
     ]
    },
    {
     "name": "stderr",
     "output_type": "stream",
     "text": [
      "Fine-Tuning Epoch 17/20: 100%|██████████| 41/41 [00:03<00:00, 13.03batch/s, loss=0.0117] \n"
     ]
    },
    {
     "name": "stdout",
     "output_type": "stream",
     "text": [
      "Fine-Tuning Epoch 17/20, Loss: 0.0108\n"
     ]
    },
    {
     "name": "stderr",
     "output_type": "stream",
     "text": [
      "Fine-Tuning Epoch 18/20: 100%|██████████| 41/41 [00:03<00:00, 12.68batch/s, loss=0.0132] \n"
     ]
    },
    {
     "name": "stdout",
     "output_type": "stream",
     "text": [
      "Fine-Tuning Epoch 18/20, Loss: 0.0113\n"
     ]
    },
    {
     "name": "stderr",
     "output_type": "stream",
     "text": [
      "Fine-Tuning Epoch 19/20: 100%|██████████| 41/41 [00:03<00:00, 12.90batch/s, loss=0.00938]\n"
     ]
    },
    {
     "name": "stdout",
     "output_type": "stream",
     "text": [
      "Fine-Tuning Epoch 19/20, Loss: 0.0111\n"
     ]
    },
    {
     "name": "stderr",
     "output_type": "stream",
     "text": [
      "Fine-Tuning Epoch 20/20: 100%|██████████| 41/41 [00:03<00:00, 13.00batch/s, loss=0.00945]\n"
     ]
    },
    {
     "name": "stdout",
     "output_type": "stream",
     "text": [
      "Fine-Tuning Epoch 20/20, Loss: 0.0100\n",
      "Test MAPE: 0.04%\n"
     ]
    },
    {
     "data": {
      "image/png": "[encoded data removed]",
      "text/plain": [
       "<Figure size 1200x600 with 1 Axes>"
      ]
     },
     "metadata": {},
     "output_type": "display_data"
    }
   ],
   "source": [
    "import pandas as pd\n",
    "import numpy as np\n",
    "import torch\n",
    "import torch.nn as nn\n",
    "import random \n",
    "from sklearn.preprocessing import StandardScaler\n",
    "from torch.utils.data import DataLoader, Dataset\n",
    "from sklearn.metrics import mean_absolute_percentage_error\n",
    "import matplotlib.pyplot as plt\n",
    "from tqdm import tqdm\n",
    "import sys\n",
    "sys.path.append(r\"g:/Facultate/Licenta/fewshot-ts-embedding/libs\")\n",
    "from timeserieslibrary.models.MICN import Model\n",
    "\n",
    "# Load the Excel file\n",
    "xls = pd.ExcelFile(\"Buildings_el.xlsx\")\n",
    "electricity_df = xls.parse('Electricity kWh')\n",
    "weather_df = xls.parse('Weather archive')\n",
    "\n",
    "# Clean electricity data\n",
    "new_header = electricity_df.iloc[0]\n",
    "electricity_df_clean = electricity_df[1:].copy()\n",
    "electricity_df_clean.columns = new_header\n",
    "electricity_df_clean.rename(columns={new_header[0]: \"Timestamp\"}, inplace=True)\n",
    "electricity_df_clean[\"Timestamp\"] = pd.to_datetime(electricity_df_clean[\"Timestamp\"])\n",
    "electricity_df_clean.set_index(\"Timestamp\", inplace=True)\n",
    "electricity_df_clean = electricity_df_clean.apply(pd.to_numeric, errors='coerce')\n",
    "electricity_df_clean = electricity_df_clean.groupby(electricity_df_clean.index).mean()\n",
    "electricity_df_clean[\"Total_kWh\"] = electricity_df_clean.sum(axis=1)\n",
    "\n",
    "# Clean weather data\n",
    "weather_df.columns = weather_df.iloc[1]\n",
    "weather_df_clean = weather_df[2:].copy()\n",
    "weather_df_clean.rename(columns={\"Local time in Tallinn \": \"Timestamp\"}, inplace=True)\n",
    "weather_df_clean[\"Timestamp\"] = pd.to_datetime(weather_df_clean[\"Timestamp\"], dayfirst=True, errors='coerce')\n",
    "\n",
    "# Rename relevant columns for clarity\n",
    "weather_df_clean.rename(columns={\n",
    "    \"T\": \"Temperature (°C)\",\n",
    "    \"P0\": \"Pressure (mmHg)\",\n",
    "    \"U\": \"Humidity (%)\",\n",
    "    \"Ff\": \"Wind speed (m/s)\"\n",
    "}, inplace=True)\n",
    "\n",
    "def create_time_features(index):\n",
    "    \"\"\"\n",
    "    Create time-related features based on the index (timestamps).\n",
    "    \"\"\"\n",
    "    time_features = pd.DataFrame(index=index)\n",
    "    time_features['hour'] = index.hour\n",
    "    time_features['day'] = index.day\n",
    "    time_features['weekday'] = index.weekday\n",
    "    time_features['month'] = index.month\n",
    "    return torch.tensor(time_features.values, dtype=torch.float32)\n",
    "\n",
    "\n",
    "# Define numeric columns\n",
    "numeric_cols = [\"Temperature (°C)\", \"Pressure (mmHg)\", \"Wind speed (m/s)\"]\n",
    "\n",
    "# Coerce non-numeric values to NaN\n",
    "for col in numeric_cols:\n",
    "    weather_df_clean[col] = pd.to_numeric(weather_df_clean[col], errors='coerce')\n",
    "\n",
    "# Drop rows with invalid timestamps or all NaN numeric values\n",
    "weather_df_clean.dropna(subset=[\"Timestamp\"] + numeric_cols, how=\"all\", inplace=True)\n",
    "\n",
    "# Ensure only numeric columns are included for resampling\n",
    "weather_df_clean = weather_df_clean[[\"Timestamp\"] + numeric_cols]\n",
    "\n",
    "# Set the timestamp as the index and resample to hourly frequency\n",
    "weather_df_clean = weather_df_clean.set_index(\"Timestamp\").resample(\"h\").mean()\n",
    "\n",
    "# Merge datasets\n",
    "combined_df = electricity_df_clean.merge(weather_df_clean, left_index=True, right_index=True, how='inner')\n",
    "\n",
    "# Filter data for a specific building\n",
    "building_id = \"OBS\"  # Replace with the desired building's identifier\n",
    "building_data = combined_df[[building_id, \"Total_kWh\", \"Temperature (°C)\", \"Pressure (mmHg)\", \"Wind speed (m/s)\"]]\n",
    "\n",
    "# Use the filtered data for further processing\n",
    "data_2023 = building_data.loc['2023']  # Filter data for the year 2023\n",
    "\n",
    "# Randomly select 2 months for training\n",
    "all_months = list(range(1, 13))\n",
    "train_months = random.sample(all_months, 2)\n",
    "test_months = [month for month in all_months if month not in train_months]\n",
    "\n",
    "print(f\"Training Months: {train_months}\")\n",
    "print(f\"Testing Months: {test_months}\")\n",
    "\n",
    "# Prepare train and test data\n",
    "train_data = pd.DataFrame()\n",
    "test_data = pd.DataFrame()\n",
    "\n",
    "# Add data for the selected training months\n",
    "for month in train_months:\n",
    "    month_data = data_2023[data_2023.index.month == month]\n",
    "    train_data = pd.concat([train_data, month_data])\n",
    "\n",
    "# Add data for the remaining testing months\n",
    "for month in test_months:\n",
    "    month_data = data_2023[data_2023.index.month == month]\n",
    "    test_data = pd.concat([test_data, month_data])\n",
    "\n",
    "# Sort the data by index\n",
    "train_data.sort_index(inplace=True)\n",
    "test_data.sort_index(inplace=True)\n",
    "\n",
    "# Normalize data\n",
    "scaler = StandardScaler()\n",
    "train_data[\"Total_kWh\"] = scaler.fit_transform(train_data[[\"Total_kWh\"]])\n",
    "test_data[\"Total_kWh\"] = scaler.transform(test_data[[\"Total_kWh\"]])\n",
    "\n",
    "# Create sequences\n",
    "def create_sequences(data, seq_len, pred_len):\n",
    "    X, y = [], []\n",
    "    for i in range(len(data) - seq_len - pred_len):\n",
    "        X.append(data[i:i+seq_len].values)\n",
    "        y.append(data[i+seq_len:i+seq_len+pred_len].values)\n",
    "    return np.array(X), np.array(y)\n",
    "\n",
    "seq_len = 168\n",
    "pred_len = 24\n",
    "X_train, y_train = create_sequences(train_data[\"Total_kWh\"], seq_len, pred_len)\n",
    "X_test, y_test = create_sequences(test_data[\"Total_kWh\"], seq_len, pred_len)\n",
    "\n",
    "X_train = torch.tensor(X_train, dtype=torch.float32)\n",
    "y_train = torch.tensor(y_train, dtype=torch.float32)\n",
    "X_test = torch.tensor(X_test, dtype=torch.float32)\n",
    "y_test = torch.tensor(y_test, dtype=torch.float32)\n",
    "\n",
    "\n",
    "\n",
    "\n",
    "\n",
    "# Initialize the model\n",
    "class Configs:\n",
    "    task_name = 'long_term_forecast'\n",
    "    seq_len = seq_len\n",
    "    pred_len = pred_len\n",
    "    enc_in = 1\n",
    "    d_model = 64\n",
    "    n_heads = 8\n",
    "    d_layers = 2\n",
    "    dropout = 0.1\n",
    "    embed = 'timeF'\n",
    "    freq = 'h'\n",
    "    c_out = 1\n",
    "\n",
    "configs = Configs()\n",
    "device = torch.device(\"cuda:0\" if torch.cuda.is_available() else \"cpu\")\n",
    "model = Model(configs).to(device)\n",
    "\n",
    "# Define loss and optimizer\n",
    "criterion = nn.MSELoss()\n",
    "optimizer = torch.optim.Adam(model.parameters(), lr=0.001)\n",
    "\n",
    "import random\n",
    "\n",
    "# Step 1: Split buildings into pretraining and fine-tuning/testing groups\n",
    "all_buildings = list(electricity_df_clean.columns)  # Get all building names\n",
    "all_buildings.remove(\"Total_kWh\")  # Exclude the \"Total_kWh\" column\n",
    "random.shuffle(all_buildings)\n",
    "\n",
    "# Use N-2 buildings for pretraining\n",
    "pretrain_buildings = all_buildings[:-2]\n",
    "\n",
    "# Use the remaining 2 buildings for fine-tuning and testing\n",
    "finetune_test_buildings = all_buildings[-2:]\n",
    "\n",
    "print(f\"Pretraining Buildings: {pretrain_buildings}\")\n",
    "print(f\"Fine-Tuning/Test Buildings: {finetune_test_buildings}\")\n",
    "\n",
    "# Step 2: Prepare pretraining data\n",
    "pretrain_data = combined_df[pretrain_buildings + [\"Total_kWh\"]]\n",
    "\n",
    "# Step 3: Prepare fine-tuning and testing data\n",
    "finetune_test_data = combined_df[finetune_test_buildings + [\"Total_kWh\"]]\n",
    "\n",
    "# Randomly select 2 months for fine-tuning\n",
    "all_months = list(range(1, 13))\n",
    "finetune_months = random.sample(all_months, 2)\n",
    "test_months = [month for month in all_months if month not in finetune_months]\n",
    "\n",
    "print(f\"Fine-Tuning Months: {finetune_months}\")\n",
    "print(f\"Testing Months: {test_months}\")\n",
    "\n",
    "# Fine-tuning data\n",
    "finetune_data = pd.DataFrame()\n",
    "for month in finetune_months:\n",
    "    month_data = finetune_test_data[finetune_test_data.index.month == month]\n",
    "    finetune_data = pd.concat([finetune_data, month_data])\n",
    "\n",
    "# Testing data\n",
    "test_data = pd.DataFrame()\n",
    "for month in test_months:\n",
    "    month_data = finetune_test_data[finetune_test_data.index.month == month]\n",
    "    test_data = pd.concat([test_data, month_data])\n",
    "\n",
    "# Step 4: Normalize data\n",
    "scaler = StandardScaler()\n",
    "\n",
    "# Pretraining data normalization\n",
    "pretrain_data[\"Total_kWh\"] = scaler.fit_transform(pretrain_data[[\"Total_kWh\"]])\n",
    "\n",
    "# Fine-tuning and testing data normalization\n",
    "finetune_data[\"Total_kWh\"] = scaler.transform(finetune_data[[\"Total_kWh\"]])\n",
    "test_data[\"Total_kWh\"] = scaler.transform(test_data[[\"Total_kWh\"]])\n",
    "\n",
    "# Step 5: Create sequences\n",
    "def create_sequences(data, seq_len, pred_len):\n",
    "    X, y = [], []\n",
    "    for i in range(len(data) - seq_len - pred_len):\n",
    "        X.append(data[i:i+seq_len].values)\n",
    "        y.append(data[i+seq_len:i+seq_len+pred_len].values)\n",
    "    return np.array(X), np.array(y)\n",
    "\n",
    "seq_len = 168\n",
    "pred_len = 24\n",
    "\n",
    "# Pretraining sequences\n",
    "X_pretrain, y_pretrain = create_sequences(pretrain_data[\"Total_kWh\"], seq_len, pred_len)\n",
    "\n",
    "# Fine-tuning sequences\n",
    "X_finetune, y_finetune = create_sequences(finetune_data[\"Total_kWh\"], seq_len, pred_len)\n",
    "\n",
    "# Testing sequences\n",
    "X_test, y_test = create_sequences(test_data[\"Total_kWh\"], seq_len, pred_len)\n",
    "\n",
    "# Convert to tensors\n",
    "X_pretrain = torch.tensor(X_pretrain, dtype=torch.float32)\n",
    "y_pretrain = torch.tensor(y_pretrain, dtype=torch.float32)\n",
    "X_finetune = torch.tensor(X_finetune, dtype=torch.float32)\n",
    "y_finetune = torch.tensor(y_finetune, dtype=torch.float32)\n",
    "X_test = torch.tensor(X_test, dtype=torch.float32)\n",
    "y_test = torch.tensor(y_test, dtype=torch.float32)\n",
    "\n",
    "print(f\"Pretraining Data Shape: {X_pretrain.shape}, {y_pretrain.shape}\")\n",
    "print(f\"Fine-Tuning Data Shape: {X_finetune.shape}, {y_finetune.shape}\")\n",
    "print(f\"Testing Data Shape: {X_test.shape}, {y_test.shape}\")\n",
    "\n",
    "# Step 6: Pretraining\n",
    "pretrain_loader = DataLoader(torch.utils.data.TensorDataset(X_pretrain, y_pretrain), batch_size=32, shuffle=True)\n",
    "finetune_loader = DataLoader(torch.utils.data.TensorDataset(X_finetune, y_finetune), batch_size=32, shuffle=True)\n",
    "test_loader = DataLoader(torch.utils.data.TensorDataset(X_test, y_test), batch_size=32, shuffle=False)\n",
    "\n",
    "# Training loop\n",
    "# Training loop with time-related features\n",
    "epochs = 20\n",
    "for epoch in range(epochs):\n",
    "    model.train()\n",
    "    epoch_loss = 0\n",
    "    with tqdm(pretrain_loader, desc=f\"Pretraining Epoch {epoch+1}/{epochs}\", unit=\"batch\") as t:\n",
    "        for batch_X, batch_y in t:\n",
    "            batch_X, batch_y = batch_X.to(device), batch_y.to(device)\n",
    "\n",
    "            # Add a singleton dimension for the feature axis\n",
    "            batch_X = batch_X.unsqueeze(-1)  # Shape: [batch_size, seq_len, 1]\n",
    "\n",
    "            # Generate time-related features for the encoder and decoder\n",
    "            timestamps = train_data.index[:batch_X.size(1)]  # Adjust based on your DataLoader\n",
    "            x_mark_enc = create_time_features(timestamps).to(device)\n",
    "            future_timestamps = train_data.index[batch_X.size(1) - configs.seq_len : batch_X.size(1) + configs.pred_len]\n",
    "            x_mark_dec = create_time_features(future_timestamps).to(device)\n",
    "\n",
    "            # Ensure batch_y is 3D by adding a singleton dimension\n",
    "            batch_y = batch_y.unsqueeze(-1)  # Shape: [batch_size, pred_len, 1]\n",
    "\n",
    "            # Generate decoder input (shifted target sequence)\n",
    "            x_dec = batch_y[:, :-1, :]  # Shifted target sequence for the decoder\n",
    "\n",
    "            optimizer.zero_grad()\n",
    "            outputs = model(batch_X, x_mark_enc, x_dec, x_mark_dec)  # Pass all required inputs\n",
    "            loss = criterion(outputs, batch_y)\n",
    "            loss.backward()\n",
    "            optimizer.step()\n",
    "            epoch_loss += loss.item()\n",
    "            t.set_postfix(loss=loss.item())\n",
    "    print(f\"Pretraining Epoch {epoch+1}/{epochs}, Loss: {epoch_loss/len(pretrain_loader):.4f}\")\n",
    "\n",
    "# Step 7: Fine-tuning\n",
    "# Fine-tuning loop with time-related features\n",
    "for epoch in range(epochs):\n",
    "    model.train()\n",
    "    epoch_loss = 0\n",
    "    with tqdm(finetune_loader, desc=f\"Fine-Tuning Epoch {epoch+1}/{epochs}\", unit=\"batch\") as t:\n",
    "        for batch_X, batch_y in t:\n",
    "            batch_X, batch_y = batch_X.to(device), batch_y.to(device)\n",
    "\n",
    "            # Add a singleton dimension for the feature axis\n",
    "            batch_X = batch_X.unsqueeze(-1)  # Shape: [batch_size, seq_len, 1]\n",
    "\n",
    "            # Generate time-related features for the encoder and decoder\n",
    "            timestamps = finetune_data.index[:batch_X.size(1)]  # Adjust based on your DataLoader\n",
    "            x_mark_enc = create_time_features(timestamps).to(device)\n",
    "            future_timestamps = train_data.index[batch_X.size(1) - configs.seq_len : batch_X.size(1) + configs.pred_len]\n",
    "            x_mark_dec = create_time_features(future_timestamps).to(device)\n",
    "\n",
    "            # Ensure batch_y is 3D by adding a singleton dimension\n",
    "            batch_y = batch_y.unsqueeze(-1)  # Shape: [batch_size, pred_len, 1]\n",
    "\n",
    "            # Generate decoder input (shifted target sequence)\n",
    "            x_dec = batch_y[:, :-1, :]  # Shifted target sequence for the decoder\n",
    "\n",
    "            optimizer.zero_grad()\n",
    "            outputs = model(batch_X, x_mark_enc, x_dec, x_mark_dec)  # Pass all required inputs\n",
    "            loss = criterion(outputs, batch_y)\n",
    "            loss.backward()\n",
    "            optimizer.step()\n",
    "            epoch_loss += loss.item()\n",
    "            t.set_postfix(loss=loss.item())\n",
    "    print(f\"Fine-Tuning Epoch {epoch+1}/{epochs}, Loss: {epoch_loss/len(finetune_loader):.4f}\")\n",
    "# Step 8: Testing\n",
    "model.eval()\n",
    "actuals, predictions = [], []\n",
    "with torch.no_grad():\n",
    "    for batch_X, batch_y in test_loader:\n",
    "        batch_X, batch_y = batch_X.to(device), batch_y.to(device)\n",
    "\n",
    "        # Add a singleton dimension for the feature axis\n",
    "        batch_X = batch_X.unsqueeze(-1)  # Shape: [batch_size, seq_len, 1]\n",
    "\n",
    "        # Generate time-related features for the encoder and decoder\n",
    "        timestamps = test_data.index[:batch_X.size(1)]  # Adjust based on your DataLoader\n",
    "        x_mark_enc = create_time_features(timestamps).to(device)\n",
    "        future_timestamps = train_data.index[batch_X.size(1) - configs.seq_len : batch_X.size(1) + configs.pred_len]\n",
    "        x_mark_dec = create_time_features(future_timestamps).to(device)\n",
    "\n",
    "        # Generate decoder input (shifted target sequence)\n",
    "        x_dec = torch.zeros(batch_X.size(0), configs.pred_len, 1).to(device)  # Placeholder for decoder input\n",
    "\n",
    "        # Generate predictions\n",
    "        outputs = model(batch_X, x_mark_enc, x_dec, x_mark_dec)\n",
    "\n",
    "        # Add predictions and actuals to the lists\n",
    "        actuals.append(batch_y.cpu().numpy())\n",
    "        predictions.append(outputs.cpu().numpy())\n",
    "\n",
    "# Concatenate all batches\n",
    "actuals = np.concatenate(actuals, axis=0)\n",
    "predictions = np.concatenate(predictions, axis=0)\n",
    "\n",
    "# Unscale the predictions and actuals\n",
    "actuals_unscaled = scaler.inverse_transform(actuals.reshape(-1, 1)).squeeze()\n",
    "predictions_unscaled = scaler.inverse_transform(predictions.reshape(-1, 1)).squeeze()\n",
    "\n",
    "# Calculate MAPE\n",
    "mape = mean_absolute_percentage_error(actuals_unscaled, predictions_unscaled)\n",
    "print(f\"Test MAPE: {mape:.2f}%\")\n",
    "\n",
    "# Plot predictions vs actuals\n",
    "plt.figure(figsize=(12, 6))\n",
    "plt.plot(actuals_unscaled, label=\"Actuals\", color=\"blue\")\n",
    "plt.plot(predictions_unscaled, label=\"Predictions\", color=\"red\")\n",
    "plt.title(\"Predictions vs Actuals\")\n",
    "plt.xlabel(\"Time Steps\")\n",
    "plt.ylabel(\"Electricity Usage (kWh)\")\n",
    "plt.legend()\n",
    "plt.grid(True)\n",
    "plt.tight_layout()\n",
    "plt.show()"
   ]
  }
 ],
 "metadata": {
  "kernelspec": {
   "display_name": "Python (myenv)",
   "language": "python",
   "name": "myenv"
  },
  "language_info": {
   "codemirror_mode": {
    "name": "ipython",
    "version": 3
   },
   "file_extension": ".py",
   "mimetype": "text/x-python",
   "name": "python",
   "nbconvert_exporter": "python",
   "pygments_lexer": "ipython3",
   "version": "3.12.1"
  }
 },
 "nbformat": 4,
 "nbformat_minor": 4
}
